{
 "cells": [
  {
   "cell_type": "code",
   "execution_count": null,
   "metadata": {},
   "outputs": [],
   "source": [
    "# Clean and Transform Spotify data\n",
    "import os\n",
    "from dotenv import load_dotenv\n",
    "import spotipy\n",
    "from spotipy.oauth2 import SpotifyClientCredentials\n",
    "import pandas as pd\n",
    "import json\n",
    "import time\n",
    "\n",
    "\n",
    "def cleanPlaylistData(sheetName):\n",
    "\n",
    "  df = pd.read_excel('SpotifyPlaylistData_20221220.xlsx',sheet_name=sheetName)\n",
    "\n",
    "  df = df.drop(columns=['Unnamed: 0','artist_uri', 'album_uri'])\n",
    "\n",
    "  df = df.loc[:,['track_uri', 'track_name', 'artist_name', 'album_name', 'release_date', 'duration_ms', 'explicit', 'popularity']]\n",
    "  # df['duration_ms'] = pd.to_timedelta(df['duration_ms'], unit='ms')\n",
    "  \n",
    "  return df\n",
    "  \n",
    "HHPlaylistDF = cleanPlaylistData('HHPlaylist')\n",
    "CHHPlaylistDF = cleanPlaylistData('CHHPlaylist')\n",
    "\n",
    "\n",
    "def cleanArtistData(sheetName):\n",
    "\n",
    "  df = pd.read_excel('SpotifyPlaylistData_20221220.xlsx',sheet_name=sheetName)\n",
    "  df = df.drop(columns=['Unnamed: 0'])\n",
    "  \n",
    "  return df\n",
    "\n",
    "def cleanAlbumData(sheetName):\n",
    "\n",
    "  df = pd.read_excel('SpotifyPlaylistData_20221220.xlsx',sheet_name=sheetName)\n",
    "  df = df.drop(columns=['Unnamed: 0'])\n",
    "  df = df.loc[:,['album_uri', 'artist_uri', 'album_name', 'artist_name', 'release_date', 'label', 'total_tracks', 'popularity']]\n",
    "  \n",
    "  return df\n",
    "\n",
    "HHAlbumsDF = cleanAlbumData('HHAlbums')\n",
    "\n",
    "def cleanTrackFeaturesData(sheetName):\n",
    "\n",
    "  df = pd.read_excel('SpotifyPlaylistData_20221220.xlsx',sheet_name=sheetName)\n",
    "  df = df.drop(columns=['Unnamed: 0'])\n",
    "  df.rename(columns={'uri': 'track_uri'}, inplace=True)\n",
    "  \n",
    "  return df\n",
    "\n",
    "HHTrackFeaturesDF = cleanTrackFeaturesData('HHTrackFeatures')\n",
    "HHTrackFeaturesDF.head()"
   ]
  },
  {
   "cell_type": "code",
   "execution_count": null,
   "metadata": {},
   "outputs": [],
   "source": [
    "# Clean and Transform LastFM data\n",
    "import os\n",
    "from dotenv import load_dotenv\n",
    "import spotipy\n",
    "from spotipy.oauth2 import SpotifyClientCredentials\n",
    "import pandas as pd\n",
    "import json\n",
    "import time\n",
    "\n",
    "def cleanTrackData(sheetName):\n",
    "\n",
    "  df = pd.read_excel('LastFMData_20221220.xlsx',sheet_name=sheetName)\n",
    "  df = df.drop(columns=['Unnamed: 0'])\n",
    "  # df = df.loc[:,['artist_mbid', 'track_name', 'artist_name', 'listeners', 'playcount']]\n",
    "  \n",
    "  return df\n",
    "\n",
    "HHTrackData = cleanTrackData('HHLastFM')\n",
    "HHTrackData.head()"
   ]
  },
  {
   "cell_type": "code",
   "execution_count": null,
   "metadata": {},
   "outputs": [],
   "source": [
    "# Push data to excel\n",
    "\n",
    "import os\n",
    "from dotenv import load_dotenv\n",
    "import spotipy\n",
    "from spotipy.oauth2 import SpotifyClientCredentials\n",
    "import pandas as pd\n",
    "import json\n",
    "import datetime as datetime\n",
    "\n",
    "def openFileToDataFrame(fileName):\n",
    "    with open(fileName, 'r') as openfile:\n",
    "        file = json.load(openfile)\n",
    "\n",
    "    df = pd.DataFrame(file)\n",
    "    return df\n",
    "\n",
    "xlxWriter = pd.ExcelWriter('TransformedData.xlsx', engine='xlsxwriter')\n",
    "\n",
    "\n",
    "xlxWriter.close()"
   ]
  }
 ],
 "metadata": {
  "kernelspec": {
   "display_name": "Python 3",
   "language": "python",
   "name": "python3"
  },
  "language_info": {
   "codemirror_mode": {
    "name": "ipython",
    "version": 3
   },
   "file_extension": ".py",
   "mimetype": "text/x-python",
   "name": "python",
   "nbconvert_exporter": "python",
   "pygments_lexer": "ipython3",
   "version": "3.10.7 (tags/v3.10.7:6cc6b13, Sep  5 2022, 14:08:36) [MSC v.1933 64 bit (AMD64)]"
  },
  "orig_nbformat": 4,
  "vscode": {
   "interpreter": {
    "hash": "8472d44af6936e0c48978bc4278d351bcd93795cd05ed6b70713607c296c8253"
   }
  }
 },
 "nbformat": 4,
 "nbformat_minor": 2
}
