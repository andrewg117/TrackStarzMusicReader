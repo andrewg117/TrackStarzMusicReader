{
 "cells": [
  {
   "cell_type": "code",
   "execution_count": 4,
   "metadata": {},
   "outputs": [
    {
     "name": "stderr",
     "output_type": "stream",
     "text": [
      "Python-dotenv could not parse statement starting at line 3\n",
      "Python-dotenv could not parse statement starting at line 8\n"
     ]
    },
    {
     "name": "stdout",
     "output_type": "stream",
     "text": [
      "{'album': {'album_type': 'album', 'artists': [{'external_urls': {'spotify': 'https://open.spotify.com/artist/0NbfKEOTQCcwd6o7wSDOHI'}, 'href': 'https://api.spotify.com/v1/artists/0NbfKEOTQCcwd6o7wSDOHI', 'id': '0NbfKEOTQCcwd6o7wSDOHI', 'name': 'The Game', 'type': 'artist', 'uri': 'spotify:artist:0NbfKEOTQCcwd6o7wSDOHI'}], 'available_markets': ['AD', 'AE', 'AG', 'AL', 'AM', 'AO', 'AR', 'AT', 'AU', 'AZ', 'BA', 'BB', 'BD', 'BE', 'BF', 'BG', 'BH', 'BI', 'BJ', 'BN', 'BO', 'BR', 'BS', 'BT', 'BW', 'BY', 'BZ', 'CA', 'CD', 'CG', 'CH', 'CI', 'CL', 'CM', 'CO', 'CR', 'CV', 'CW', 'CY', 'CZ', 'DE', 'DJ', 'DK', 'DM', 'DO', 'DZ', 'EC', 'EE', 'EG', 'ES', 'FI', 'FJ', 'FM', 'FR', 'GA', 'GB', 'GD', 'GE', 'GH', 'GM', 'GN', 'GQ', 'GR', 'GT', 'GW', 'GY', 'HK', 'HN', 'HR', 'HT', 'HU', 'ID', 'IE', 'IL', 'IN', 'IQ', 'IS', 'IT', 'JM', 'JO', 'JP', 'KE', 'KG', 'KH', 'KI', 'KM', 'KN', 'KR', 'KW', 'KZ', 'LA', 'LB', 'LC', 'LI', 'LK', 'LR', 'LS', 'LT', 'LU', 'LV', 'LY', 'MA', 'MC', 'MD', 'ME', 'MG', 'MH', 'MK', 'ML', 'MN', 'MO', 'MR', 'MT', 'MU', 'MV', 'MW', 'MX', 'MY', 'MZ', 'NA', 'NE', 'NG', 'NI', 'NO', 'NP', 'NR', 'NZ', 'OM', 'PA', 'PE', 'PG', 'PH', 'PK', 'PL', 'PS', 'PT', 'PW', 'PY', 'QA', 'RO', 'RS', 'RW', 'SA', 'SB', 'SC', 'SE', 'SG', 'SI', 'SK', 'SL', 'SM', 'SN', 'SR', 'ST', 'SV', 'SZ', 'TD', 'TG', 'TH', 'TJ', 'TL', 'TN', 'TO', 'TR', 'TT', 'TV', 'TW', 'TZ', 'UA', 'UG', 'US', 'UY', 'UZ', 'VC', 'VE', 'VN', 'VU', 'WS', 'XK', 'ZA', 'ZM', 'ZW'], 'external_urls': {'spotify': 'https://open.spotify.com/album/5ba91NGY8vlSgsNqdaD0TI'}, 'href': 'https://api.spotify.com/v1/albums/5ba91NGY8vlSgsNqdaD0TI', 'id': '5ba91NGY8vlSgsNqdaD0TI', 'images': [{'height': 640, 'url': 'https://i.scdn.co/image/ab67616d0000b273a856a5963a836417fee69e4a', 'width': 640}, {'height': 300, 'url': 'https://i.scdn.co/image/ab67616d00001e02a856a5963a836417fee69e4a', 'width': 300}, {'height': 64, 'url': 'https://i.scdn.co/image/ab67616d00004851a856a5963a836417fee69e4a', 'width': 64}], 'name': 'The Documentary', 'release_date': '2004-01-01', 'release_date_precision': 'day', 'total_tracks': 18, 'type': 'album', 'uri': 'spotify:album:5ba91NGY8vlSgsNqdaD0TI'}, 'artists': [{'external_urls': {'spotify': 'https://open.spotify.com/artist/0NbfKEOTQCcwd6o7wSDOHI'}, 'href': 'https://api.spotify.com/v1/artists/0NbfKEOTQCcwd6o7wSDOHI', 'id': '0NbfKEOTQCcwd6o7wSDOHI', 'name': 'The Game', 'type': 'artist', 'uri': 'spotify:artist:0NbfKEOTQCcwd6o7wSDOHI'}, {'external_urls': {'spotify': 'https://open.spotify.com/artist/3q7HBObVc0L8jNeTe5Gofh'}, 'href': 'https://api.spotify.com/v1/artists/3q7HBObVc0L8jNeTe5Gofh', 'id': '3q7HBObVc0L8jNeTe5Gofh', 'name': '50 Cent', 'type': 'artist', 'uri': 'spotify:artist:3q7HBObVc0L8jNeTe5Gofh'}], 'available_markets': ['AD', 'AE', 'AG', 'AL', 'AM', 'AO', 'AR', 'AT', 'AU', 'AZ', 'BA', 'BB', 'BD', 'BE', 'BF', 'BG', 'BH', 'BI', 'BJ', 'BN', 'BO', 'BR', 'BS', 'BT', 'BW', 'BY', 'BZ', 'CA', 'CD', 'CG', 'CH', 'CI', 'CL', 'CM', 'CO', 'CR', 'CV', 'CW', 'CY', 'CZ', 'DE', 'DJ', 'DK', 'DM', 'DO', 'DZ', 'EC', 'EE', 'EG', 'ES', 'FI', 'FJ', 'FM', 'FR', 'GA', 'GB', 'GD', 'GE', 'GH', 'GM', 'GN', 'GQ', 'GR', 'GT', 'GW', 'GY', 'HK', 'HN', 'HR', 'HT', 'HU', 'ID', 'IE', 'IL', 'IN', 'IQ', 'IS', 'IT', 'JM', 'JO', 'JP', 'KE', 'KG', 'KH', 'KI', 'KM', 'KN', 'KR', 'KW', 'KZ', 'LA', 'LB', 'LC', 'LI', 'LK', 'LR', 'LS', 'LT', 'LU', 'LV', 'LY', 'MA', 'MC', 'MD', 'ME', 'MG', 'MH', 'MK', 'ML', 'MN', 'MO', 'MR', 'MT', 'MU', 'MV', 'MW', 'MX', 'MY', 'MZ', 'NA', 'NE', 'NG', 'NI', 'NO', 'NP', 'NR', 'NZ', 'OM', 'PA', 'PE', 'PG', 'PH', 'PK', 'PL', 'PS', 'PT', 'PW', 'PY', 'QA', 'RO', 'RS', 'RW', 'SA', 'SB', 'SC', 'SE', 'SG', 'SI', 'SK', 'SL', 'SM', 'SN', 'SR', 'ST', 'SV', 'SZ', 'TD', 'TG', 'TH', 'TJ', 'TL', 'TN', 'TO', 'TR', 'TT', 'TV', 'TW', 'TZ', 'UA', 'UG', 'US', 'UY', 'UZ', 'VC', 'VE', 'VN', 'VU', 'WS', 'XK', 'ZA', 'ZM', 'ZW'], 'disc_number': 1, 'duration_ms': 206440, 'explicit': False, 'external_ids': {'isrc': 'USIR10401122'}, 'external_urls': {'spotify': 'https://open.spotify.com/track/04GRz5WkRVmPSGuZFJnuma'}, 'href': 'https://api.spotify.com/v1/tracks/04GRz5WkRVmPSGuZFJnuma', 'id': '04GRz5WkRVmPSGuZFJnuma', 'is_local': False, 'name': 'Hate It Or Love It', 'popularity': 41, 'preview_url': None, 'track_number': 4, 'type': 'track', 'uri': 'spotify:track:04GRz5WkRVmPSGuZFJnuma'}\n"
     ]
    }
   ],
   "source": [
    "import os\n",
    "from dotenv import load_dotenv\n",
    "import requests\n",
    "import json\n",
    "import pandas as pd\n",
    "\n",
    "load_dotenv()\n",
    "\n",
    "CLIENT_ID = os.getenv('CLIENT_ID')\n",
    "CLIENT_SECRET = os.getenv('CLIENT_SECRET')\n",
    "\n",
    "# Reference:\n",
    "# https://stmorse.github.io/journal/spotify-api.html\n",
    "# https://developer.spotify.com/documentation/web-api/reference/#/operations/get-track\n",
    "\n",
    "# response = requests.get(\"https://api.spotify.com/v1\")\n",
    "\n",
    "# print(response.status_code)\n",
    "\n",
    "AUTH_URL = 'https://accounts.spotify.com/api/token'\n",
    "\n",
    "# POST\n",
    "auth_response = requests.post(AUTH_URL, {\n",
    "    'grant_type': 'client_credentials',\n",
    "    'client_id': CLIENT_ID,\n",
    "    'client_secret': CLIENT_SECRET,\n",
    "})\n",
    "\n",
    "# convert the response to JSON\n",
    "auth_response_data = auth_response.json()\n",
    "# print(auth_response_data)\n",
    "\n",
    "# save the access token\n",
    "access_token = auth_response_data['access_token']\n",
    "\n",
    "headers = {\n",
    "    'Authorization': 'Bearer {token}'.format(token=access_token)\n",
    "}\n",
    "\n",
    "# base URL of all Spotify API endpoints\n",
    "BASE_URL = 'https://api.spotify.com/v1/'\n",
    "\n",
    "# Track ID from the URI\n",
    "track_id = '04GRz5WkRVmPSGuZFJnuma'\n",
    "\n",
    "# https://open.spotify.com/track/04GRz5WkRVmPSGuZFJnuma?si=50792cadeef14ea6\n",
    "# https://open.spotify.com/track/6nz35DNIzbtj5ztpDEcW1j?si=8f08db5005134534\n",
    "\n",
    "# actual GET request with proper header\n",
    "r = requests.get(BASE_URL + 'tracks/' + track_id, headers=headers)\n",
    "print(r.json())\n",
    "JsonResonse = r.json()\n",
    "\n",
    "SpotifyDF = pd.DataFrame.from_dict(pd.json_normalize(JsonResonse), orient=\"columns\")\n",
    "\n",
    "# SpotifyDF.transpose()\n",
    "# SpotifyDF['album.artists'].to_json()\n",
    "\n"
   ]
  }
 ],
 "metadata": {
  "kernelspec": {
   "display_name": "Python 3.10.7 64-bit",
   "language": "python",
   "name": "python3"
  },
  "language_info": {
   "codemirror_mode": {
    "name": "ipython",
    "version": 3
   },
   "file_extension": ".py",
   "mimetype": "text/x-python",
   "name": "python",
   "nbconvert_exporter": "python",
   "pygments_lexer": "ipython3",
   "version": "3.10.7 (tags/v3.10.7:6cc6b13, Sep  5 2022, 14:08:36) [MSC v.1933 64 bit (AMD64)]"
  },
  "orig_nbformat": 4,
  "vscode": {
   "interpreter": {
    "hash": "8472d44af6936e0c48978bc4278d351bcd93795cd05ed6b70713607c296c8253"
   }
  }
 },
 "nbformat": 4,
 "nbformat_minor": 2
}
