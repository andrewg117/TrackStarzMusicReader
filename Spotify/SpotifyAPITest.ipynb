{
 "cells": [
  {
   "cell_type": "code",
   "execution_count": null,
   "metadata": {},
   "outputs": [],
   "source": [
    "import os\n",
    "from dotenv import load_dotenv\n",
    "import requests\n",
    "import json\n",
    "import pandas as pd\n",
    "\n",
    "load_dotenv()\n",
    "\n",
    "CLIENT_ID = os.getenv('CLIENT_ID')\n",
    "CLIENT_SECRET = os.getenv('CLIENT_SECRET')\n",
    "\n",
    "# Reference:\n",
    "# https://stmorse.github.io/journal/spotify-api.html\n",
    "# https://developer.spotify.com/documentation/web-api/reference/#/operations/get-track\n",
    "\n",
    "# response = requests.get(\"https://api.spotify.com/v1\")\n",
    "\n",
    "# print(response.status_code)\n",
    "\n",
    "AUTH_URL = 'https://accounts.spotify.com/api/token'\n",
    "\n",
    "# POST\n",
    "auth_response = requests.post(AUTH_URL, {\n",
    "    'grant_type': 'client_credentials',\n",
    "    'client_id': CLIENT_ID,\n",
    "    'client_secret': CLIENT_SECRET,\n",
    "})\n",
    "\n",
    "# convert the response to JSON\n",
    "auth_response_data = auth_response.json()\n",
    "# print(auth_response_data)\n",
    "\n",
    "# save the access token\n",
    "access_token = auth_response_data['access_token']\n",
    "\n",
    "headers = {\n",
    "    'Authorization': 'Bearer {token}'.format(token=access_token)\n",
    "}\n",
    "\n",
    "# base URL of all Spotify API endpoints\n",
    "BASE_URL = 'https://api.spotify.com/v1/'\n",
    "\n",
    "# Track ID from the URI\n",
    "track_id = '04GRz5WkRVmPSGuZFJnuma'\n",
    "\n",
    "# https://open.spotify.com/track/04GRz5WkRVmPSGuZFJnuma?si=50792cadeef14ea6\n",
    "# https://open.spotify.com/track/6nz35DNIzbtj5ztpDEcW1j?si=8f08db5005134534\n",
    "\n",
    "# actual GET request with proper header\n",
    "r = requests.get(BASE_URL + 'tracks/' + track_id, headers=headers)\n",
    "print(r.json())\n",
    "JsonResonse = r.json()\n",
    "\n",
    "SpotifyDF = pd.DataFrame.from_dict(pd.json_normalize(JsonResonse), orient=\"columns\")\n",
    "\n",
    "# SpotifyDF.transpose()\n",
    "# SpotifyDF['album.artists'].to_json()\n",
    "\n"
   ]
  }
 ],
 "metadata": {
  "kernelspec": {
   "display_name": "Python 3.10.7 64-bit",
   "language": "python",
   "name": "python3"
  },
  "language_info": {
   "codemirror_mode": {
    "name": "ipython",
    "version": 3
   },
   "file_extension": ".py",
   "mimetype": "text/x-python",
   "name": "python",
   "nbconvert_exporter": "python",
   "pygments_lexer": "ipython3",
   "version": "3.10.7 (tags/v3.10.7:6cc6b13, Sep  5 2022, 14:08:36) [MSC v.1933 64 bit (AMD64)]"
  },
  "orig_nbformat": 4,
  "vscode": {
   "interpreter": {
    "hash": "8472d44af6936e0c48978bc4278d351bcd93795cd05ed6b70713607c296c8253"
   }
  }
 },
 "nbformat": 4,
 "nbformat_minor": 2
}
